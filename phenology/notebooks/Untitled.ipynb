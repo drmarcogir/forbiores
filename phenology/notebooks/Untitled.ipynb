{
 "cells": [
  {
   "cell_type": "code",
   "execution_count": 1,
   "metadata": {},
   "outputs": [],
   "source": [
    "import ee\n",
    "ee.Initialize()\n",
    "import geemap\n",
    "Map = geemap.Map()"
   ]
  },
  {
   "cell_type": "code",
   "execution_count": 8,
   "metadata": {},
   "outputs": [],
   "source": [
    "import os"
   ]
  },
  {
   "cell_type": "code",
   "execution_count": 24,
   "metadata": {},
   "outputs": [],
   "source": [
    "smallgrid = ee.FeatureCollection(\"users/marcogirardello/phenofixfailedexports/missing2003\")"
   ]
  },
  {
   "cell_type": "code",
   "execution_count": 6,
   "metadata": {},
   "outputs": [],
   "source": [
    "Map.addLayer(smallgrid)"
   ]
  },
  {
   "cell_type": "code",
   "execution_count": 25,
   "metadata": {},
   "outputs": [
    {
     "name": "stdout",
     "output_type": "stream",
     "text": [
      "env: minpoly=1\n",
      "env: maxpoly=47\n"
     ]
    }
   ],
   "source": [
    "%env minpoly=1\n",
    "%env maxpoly=47\n",
    "minpoly = int(os.environ[\"minpoly\"])\n",
    "maxpoly = int(os.environ[\"maxpoly\"])\n"
   ]
  },
  {
   "cell_type": "code",
   "execution_count": 26,
   "metadata": {},
   "outputs": [],
   "source": [
    "polyl = list(range(minpoly,maxpoly+1))"
   ]
  },
  {
   "cell_type": "code",
   "execution_count": null,
   "metadata": {},
   "outputs": [],
   "source": [
    "# Remember year!\n",
    "for poly in polyl:\n",
    "    # filter a given square\n",
    "    onesquare = smallgrid.filterMetadata('plyID_m','equals',poly)\n",
    "    # subtiles\n",
    "    for y in range(1,9+1):\n",
    "        print(y)\n",
    "        onesquareint = smallgrid.filterMetadata('subtile','equals',str(poly)+'_'+str(y))\n",
    "        roi1 = ee.Geometry.Polygon(onesquareint.geometry().getInfo().get('coordinates'))\n",
    "        roi1 = roi1.bounds()\n",
    "        # polygon number\n",
    "        polyname = 'Y_'+str(year)+'_'+'poly_'+str(poly)+'_t'+str(y)\n",
    "        # export tile\n",
    "        filename = 'Y_'+str(year)+'_'+'poly_'+str(poly)+'_t'+str(y)\n",
    "        task = ee.batch.Export.image.toCloudStorage(image = cumulativeStd10_mean,description = polyname,\n",
    "                                     bucket = 'temperaturefilter',fileNamePrefix = filename,\n",
    "                                     scale = 5565.974539663679,fileFormat='GeoTIFF',\n",
    "                                     skipEmptyTiles = True, crs ='EPSG:4326',maxPixels=1e13,\n",
    "                                     region = roi1)\n",
    "        task.start()    "
   ]
  },
  {
   "cell_type": "code",
   "execution_count": 38,
   "metadata": {},
   "outputs": [],
   "source": [
    "year = 2003"
   ]
  },
  {
   "cell_type": "code",
   "execution_count": 40,
   "metadata": {},
   "outputs": [
    {
     "data": {
      "text/plain": [
       "'Y_2003_poly_1_t9'"
      ]
     },
     "execution_count": 40,
     "metadata": {},
     "output_type": "execute_result"
    }
   ],
   "source": []
  },
  {
   "cell_type": "code",
   "execution_count": 27,
   "metadata": {},
   "outputs": [],
   "source": [
    "onesquare = smallgrid.filterMetadata('plyID_m','equals',poly)"
   ]
  },
  {
   "cell_type": "code",
   "execution_count": 36,
   "metadata": {},
   "outputs": [
    {
     "name": "stdout",
     "output_type": "stream",
     "text": [
      "1_1\n",
      "1_2\n",
      "1_3\n",
      "1_4\n",
      "1_5\n",
      "1_6\n",
      "1_7\n",
      "1_8\n",
      "1_9\n"
     ]
    }
   ],
   "source": [
    "for y in range(1,9+1):\n",
    "    print(str(poly)+'_'+str(y))\n",
    "    onesquareint = smallgrid.filterMetadata('subtile','equals',str(poly)+'_'+str(y))\n",
    "    onesquareint.getInfo()"
   ]
  },
  {
   "cell_type": "code",
   "execution_count": 32,
   "metadata": {},
   "outputs": [
    {
     "name": "stdout",
     "output_type": "stream",
     "text": [
      "1\n",
      "2\n",
      "3\n",
      "4\n",
      "5\n",
      "6\n",
      "7\n",
      "8\n",
      "9\n"
     ]
    }
   ],
   "source": [
    "for y in range(1,9+1):\n",
    "    print(y)\n",
    "    onesquareint = smallgrid.filterMetadata('subtile','equals',y)\n",
    "    onesquareint.getInfo()"
   ]
  },
  {
   "cell_type": "code",
   "execution_count": 19,
   "metadata": {},
   "outputs": [],
   "source": [
    "polylint = [str(poly)+'_'+str(x) for x in list(range(1,9+1))]"
   ]
  },
  {
   "cell_type": "code",
   "execution_count": 20,
   "metadata": {},
   "outputs": [
    {
     "data": {
      "text/plain": [
       "['1_1', '1_2', '1_3', '1_4', '1_5', '1_6', '1_7', '1_8', '1_9']"
      ]
     },
     "execution_count": 20,
     "metadata": {},
     "output_type": "execute_result"
    }
   ],
   "source": [
    "polylint"
   ]
  },
  {
   "cell_type": "code",
   "execution_count": 37,
   "metadata": {},
   "outputs": [],
   "source": [
    "Map.addLayer(onesquareint,{'color':'red'})"
   ]
  },
  {
   "cell_type": "code",
   "execution_count": 15,
   "metadata": {},
   "outputs": [],
   "source": [
    "polyl = 1"
   ]
  },
  {
   "cell_type": "code",
   "execution_count": 3,
   "metadata": {},
   "outputs": [
    {
     "data": {
      "application/vnd.jupyter.widget-view+json": {
       "model_id": "e8e19d66b4684b4aa4710ad483f1c664",
       "version_major": 2,
       "version_minor": 0
      },
      "text/plain": [
       "Map(center=[40, -100], controls=(WidgetControl(options=['position'], widget=HBox(children=(ToggleButton(value=…"
      ]
     },
     "metadata": {},
     "output_type": "display_data"
    }
   ],
   "source": [
    "Map"
   ]
  },
  {
   "cell_type": "code",
   "execution_count": null,
   "metadata": {},
   "outputs": [],
   "source": []
  }
 ],
 "metadata": {
  "kernelspec": {
   "display_name": "Python 3",
   "language": "python",
   "name": "python3"
  },
  "language_info": {
   "codemirror_mode": {
    "name": "ipython",
    "version": 3
   },
   "file_extension": ".py",
   "mimetype": "text/x-python",
   "name": "python",
   "nbconvert_exporter": "python",
   "pygments_lexer": "ipython3",
   "version": "3.8.5"
  }
 },
 "nbformat": 4,
 "nbformat_minor": 4
}
