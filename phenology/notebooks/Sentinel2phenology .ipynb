{
 "cells": [
  {
   "cell_type": "markdown",
   "metadata": {},
   "source": [
    "# **Phenological diversity with Sentinel 2**"
   ]
  },
  {
   "cell_type": "markdown",
   "metadata": {},
   "source": [
    "### <span style=\"color:red\">   Import packages</span>"
   ]
  },
  {
   "cell_type": "code",
   "execution_count": 1,
   "metadata": {},
   "outputs": [],
   "source": [
    "import ee\n",
    "ee.Initialize()\n",
    "import geemap\n",
    "Map = geemap.Map()"
   ]
  },
  {
   "cell_type": "code",
   "execution_count": 2,
   "metadata": {},
   "outputs": [],
   "source": [
    "import pandas as pd"
   ]
  },
  {
   "cell_type": "markdown",
   "metadata": {},
   "source": [
    "### <span style=\"color:red\">  Load collections</span>"
   ]
  },
  {
   "cell_type": "code",
   "execution_count": 19,
   "metadata": {},
   "outputs": [],
   "source": [
    "# forest mask from ESA CCI (unchanged forests)\n",
    "forestmask = ee.Image('users/marcogirardello/phenoutils/mask_unchanged_500m')\n",
    "# entire collection from Sentinel 2\n",
    "collectionS2 = ee.ImageCollection(\"COPERNICUS/S2_SR\")\n",
    "# sampling areas\n",
    "samples = ee.FeatureCollection('users/marcogirardello/exploratoryproject/samples')"
   ]
  },
  {
   "cell_type": "markdown",
   "metadata": {},
   "source": [
    "### <span style=\"color:red\">   Required functions</span>"
   ]
  },
  {
   "cell_type": "code",
   "execution_count": 20,
   "metadata": {},
   "outputs": [],
   "source": [
    "def maskCloudAndShadows(image):\n",
    "    cloudProb = image.select('MSK_CLDPRB')\n",
    "    snowProb = image.select('MSK_SNWPRB')\n",
    "    cloud = cloudProb.lt(5)\n",
    "    snow = snowProb.lt(5)\n",
    "    scl = image.select('SCL')\n",
    "    shadow = scl.eq(3) # 3 = cloud shadow\n",
    "    cirrus = scl.eq(10) # 10 = cirrus\n",
    "    # cloud probability less than 5% or cloud shadow classification\n",
    "    mask = (cloud.And(snow)).And(cirrus.neq(1)).And(shadow.neq(1))\n",
    "    return image.updateMask(mask) \n",
    "\n",
    "# add dn for product aggregated into 16 days\n",
    "def add_dn_date(img,beginDate=None,n=None,IncludeYear=False):\n",
    "    if beginDate is None:\n",
    "        beginDate = img.get('system:time_start')\n",
    "    else:\n",
    "        beginDate = beginDate\n",
    "    if IncludeYear is False:\n",
    "        IncludeYear = True\n",
    "    if n is None:\n",
    "        n = 8\n",
    "    beginDate = ee.Date(beginDate)\n",
    "    year  = beginDate.get('year')\n",
    "    month = beginDate.get('month')\n",
    "    diff  = beginDate.difference(ee.Date.fromYMD(year, 1, 1), 'day').add(1)\n",
    "    dn    = diff.subtract(1).divide(n).floor().add(1).int()\n",
    "    yearstr  = year.format('%d') \n",
    "    dn = dn.format('%02d')\n",
    "    return ee.Image(img).set('system:time_start', beginDate.millis()).set('date', beginDate.format('yyyy-MM-dd')).set('Year', yearstr).set('Month',beginDate.format('MM')).set('YearMonth', beginDate.format('YYYY-MM')).set('dn', dn)\n",
    "\n",
    "# wrapper function for add_dn_date\n",
    "def add_dn_date_all(Year,days):\n",
    "    def wrapper(image0):\n",
    "        tmp = add_dn_date(img = image0,IncludeYear=Year,n = days)\n",
    "        return tmp\n",
    "    return (wrapper)\n",
    "\n",
    "def smoothing(image):\n",
    "    collection = ee.ImageCollection.fromImages(image.get('images'))\n",
    "    return ee.Image(image).addBands(collection.mean())"
   ]
  },
  {
   "cell_type": "markdown",
   "metadata": {},
   "source": [
    "### <span style=\"color:red\">  Filter random square</span>"
   ]
  },
  {
   "cell_type": "code",
   "execution_count": 7,
   "metadata": {},
   "outputs": [],
   "source": [
    "onesq = samples.filterMetadata('polyID','equals',33)"
   ]
  },
  {
   "cell_type": "markdown",
   "metadata": {},
   "source": [
    "### <span style=\"color:red\"> Filter collection and add NDVI text</span>"
   ]
  },
  {
   "cell_type": "code",
   "execution_count": 17,
   "metadata": {},
   "outputs": [],
   "source": [
    "res = collectionS2.\\\n",
    "    filterBounds(onesq).\\\n",
    "    filterDate('2017-03-28','2020-12-31').filterMetadata('CLOUDY_PIXEL_PERCENTAGE','less_than',30)#.\\\n",
    "    #map(maskCloudAndShadows)#.\\\n",
    "    #map(lambda image: image.normalizedDifference(['B8', 'B4']).rename('NDVI'))#.select('NDVI')"
   ]
  },
  {
   "cell_type": "code",
   "execution_count": 21,
   "metadata": {},
   "outputs": [
    {
     "data": {
      "text/plain": [
       "['DATATAKE_IDENTIFIER',\n",
       " 'AOT_RETRIEVAL_ACCURACY',\n",
       " 'CLOUD_COVERAGE_PERCENTAGE',\n",
       " 'SPACECRAFT_NAME',\n",
       " 'FORMAT_CORRECTNESS_FLAG',\n",
       " 'SATURATED_DEFECTIVE_PIXEL_PERCENTAGE',\n",
       " 'system:id',\n",
       " 'MEAN_INCIDENCE_AZIMUTH_ANGLE_B8A',\n",
       " 'CLOUD_SHADOW_PERCENTAGE',\n",
       " 'MEAN_SOLAR_AZIMUTH_ANGLE',\n",
       " 'system:footprint',\n",
       " 'VEGETATION_PERCENTAGE',\n",
       " 'SOLAR_IRRADIANCE_B12',\n",
       " 'system:version',\n",
       " 'SOLAR_IRRADIANCE_B10',\n",
       " 'SOLAR_IRRADIANCE_B11',\n",
       " 'GENERATION_TIME',\n",
       " 'SOLAR_IRRADIANCE_B8A',\n",
       " 'SENSOR_QUALITY_FLAG',\n",
       " 'CLOUD_COVERAGE_ASSESSMENT',\n",
       " 'THIN_CIRRUS_PERCENTAGE',\n",
       " 'system:time_end',\n",
       " 'WATER_VAPOUR_RETRIEVAL_ACCURACY',\n",
       " 'system:time_start',\n",
       " 'DATASTRIP_ID',\n",
       " 'PROCESSING_BASELINE',\n",
       " 'SENSING_ORBIT_NUMBER',\n",
       " 'GEOMETRIC_QUALITY_FLAG',\n",
       " 'NODATA_PIXEL_PERCENTAGE',\n",
       " 'SENSING_ORBIT_DIRECTION',\n",
       " 'GRANULE_ID',\n",
       " 'LOW_PROBA_CLOUDS_PERCENTAGE',\n",
       " 'REFLECTANCE_CONVERSION_CORRECTION',\n",
       " 'MEDIUM_PROBA_CLOUDS_PERCENTAGE',\n",
       " 'MEAN_INCIDENCE_AZIMUTH_ANGLE_B8',\n",
       " 'DATATAKE_TYPE',\n",
       " 'MEAN_INCIDENCE_AZIMUTH_ANGLE_B9',\n",
       " 'MEAN_INCIDENCE_AZIMUTH_ANGLE_B6',\n",
       " 'MEAN_INCIDENCE_AZIMUTH_ANGLE_B7',\n",
       " 'RADIOMETRIC_QUALITY_FLAG',\n",
       " 'MEAN_INCIDENCE_AZIMUTH_ANGLE_B4',\n",
       " 'MEAN_INCIDENCE_ZENITH_ANGLE_B1',\n",
       " 'MEAN_INCIDENCE_AZIMUTH_ANGLE_B5',\n",
       " 'MEAN_INCIDENCE_AZIMUTH_ANGLE_B2',\n",
       " 'MEAN_INCIDENCE_AZIMUTH_ANGLE_B3',\n",
       " 'MEAN_INCIDENCE_ZENITH_ANGLE_B5',\n",
       " 'MEAN_INCIDENCE_AZIMUTH_ANGLE_B1',\n",
       " 'MEAN_INCIDENCE_ZENITH_ANGLE_B4',\n",
       " 'RADIATIVE_TRANSFER_ACCURAY',\n",
       " 'MEAN_INCIDENCE_ZENITH_ANGLE_B3',\n",
       " 'MEAN_INCIDENCE_ZENITH_ANGLE_B2',\n",
       " 'MEAN_INCIDENCE_ZENITH_ANGLE_B9',\n",
       " 'MEAN_INCIDENCE_ZENITH_ANGLE_B8',\n",
       " 'MEAN_INCIDENCE_ZENITH_ANGLE_B7',\n",
       " 'DARK_FEATURES_PERCENTAGE',\n",
       " 'HIGH_PROBA_CLOUDS_PERCENTAGE',\n",
       " 'MEAN_INCIDENCE_ZENITH_ANGLE_B6',\n",
       " 'MEAN_SOLAR_ZENITH_ANGLE',\n",
       " 'MEAN_INCIDENCE_ZENITH_ANGLE_B8A',\n",
       " 'MGRS_TILE',\n",
       " 'CLOUDY_PIXEL_PERCENTAGE',\n",
       " 'GENERAL_QUALITY_FLAG',\n",
       " 'PRODUCT_ID',\n",
       " 'MEAN_INCIDENCE_ZENITH_ANGLE_B10',\n",
       " 'SOLAR_IRRADIANCE_B9',\n",
       " 'SNOW_ICE_PERCENTAGE',\n",
       " 'DEGRADED_MSI_DATA_PERCENTAGE',\n",
       " 'MEAN_INCIDENCE_ZENITH_ANGLE_B11',\n",
       " 'MEAN_INCIDENCE_ZENITH_ANGLE_B12',\n",
       " 'SOLAR_IRRADIANCE_B6',\n",
       " 'MEAN_INCIDENCE_AZIMUTH_ANGLE_B10',\n",
       " 'SOLAR_IRRADIANCE_B5',\n",
       " 'MEAN_INCIDENCE_AZIMUTH_ANGLE_B11',\n",
       " 'SOLAR_IRRADIANCE_B8',\n",
       " 'MEAN_INCIDENCE_AZIMUTH_ANGLE_B12',\n",
       " 'SOLAR_IRRADIANCE_B7',\n",
       " 'SOLAR_IRRADIANCE_B2',\n",
       " 'SOLAR_IRRADIANCE_B1',\n",
       " 'SOLAR_IRRADIANCE_B4',\n",
       " 'SOLAR_IRRADIANCE_B3',\n",
       " 'BARE_SOILS_PERCENTAGE',\n",
       " 'system:asset_size',\n",
       " 'WATER_PERCENTAGE',\n",
       " 'system:index',\n",
       " 'system:bands',\n",
       " 'system:band_names']"
      ]
     },
     "execution_count": 21,
     "metadata": {},
     "output_type": "execute_result"
    }
   ],
   "source": [
    "res.first().propertyNames().getInfo()"
   ]
  },
  {
   "cell_type": "markdown",
   "metadata": {},
   "source": [
    "#### Add day"
   ]
  },
  {
   "cell_type": "code",
   "execution_count": 149,
   "metadata": {},
   "outputs": [],
   "source": [
    "# add day \n",
    "collection = collectionS2.map(add_dn_date_all(Year = False, days = 16))"
   ]
  },
  {
   "cell_type": "markdown",
   "metadata": {},
   "source": [
    "#### Aggregate data into 16-day composites"
   ]
  },
  {
   "cell_type": "code",
   "execution_count": 115,
   "metadata": {},
   "outputs": [],
   "source": [
    "tmpseas = [\"%02d\" % x for x in list(range(1, 23+1))]\n",
    "tmpseas1 = ee.List(tmpseas)"
   ]
  },
  {
   "cell_type": "code",
   "execution_count": null,
   "metadata": {},
   "outputs": [],
   "source": []
  },
  {
   "cell_type": "code",
   "execution_count": null,
   "metadata": {},
   "outputs": [],
   "source": []
  },
  {
   "cell_type": "code",
   "execution_count": 119,
   "metadata": {},
   "outputs": [
    {
     "data": {
      "text/plain": [
       "{'type': 'Projection',\n",
       " 'crs': 'EPSG:32734',\n",
       " 'transform': [10, 0, 199980, 0, -10, 9600040]}"
      ]
     },
     "execution_count": 119,
     "metadata": {},
     "output_type": "execute_result"
    }
   ],
   "source": [
    "res.select('B8').projection().getInfo()"
   ]
  },
  {
   "cell_type": "code",
   "execution_count": 128,
   "metadata": {},
   "outputs": [],
   "source": [
    "res1 = collectionS2.\\\n",
    "    filterBounds(onesq).\\\n",
    "    filterDate('2017-03-28','2020-12-31').filterMetadata('CLOUDY_PIXEL_PERCENTAGE','less_than',30).\\\n",
    "    map(maskCloudAndShadows).median()"
   ]
  },
  {
   "cell_type": "code",
   "execution_count": 124,
   "metadata": {},
   "outputs": [],
   "source": [
    "img = res.max()\n",
    "img1 = img.setDefaultProjection(crs = 'EPSG:32734',scale = 10).reduceResolution(ee.Reducer.stdDev(), bestEffort = False, maxPixels = 200).reproject(ee.Projection('EPSG:32734').scale(100, 100)).updateMask(1) "
   ]
  },
  {
   "cell_type": "code",
   "execution_count": 126,
   "metadata": {},
   "outputs": [],
   "source": [
    "visualization = {\n",
    "  'min': 0.0,\n",
    "  'max': 0.3,\n",
    "  'bands': ['B4', 'B3', 'B2'],\n",
    "}"
   ]
  },
  {
   "cell_type": "code",
   "execution_count": 132,
   "metadata": {},
   "outputs": [],
   "source": [
    "Map.addLayer(res1, {'bands': ['B4', 'B3', 'B2'], 'min': 0, 'max': 2500, 'gamma': 1.1},\n",
    "                'S2 cloud-free mosaic')"
   ]
  },
  {
   "cell_type": "code",
   "execution_count": 84,
   "metadata": {},
   "outputs": [],
   "source": [
    "Map.addLayer(img1,'','stdvv')"
   ]
  },
  {
   "cell_type": "code",
   "execution_count": 125,
   "metadata": {},
   "outputs": [],
   "source": [
    "task = ee.batch.Export.image.toAsset(image = img1,description = 's2test_max_africa',\n",
    "                                     assetId='users/marcogirardello/exploratoryproject/s2test_max_africa',\n",
    "                                     crs = 'EPSG:32734',scale = 10,maxPixels=1e13,region=onesq.geometry())\n",
    "task.start()"
   ]
  },
  {
   "cell_type": "code",
   "execution_count": null,
   "metadata": {},
   "outputs": [],
   "source": [
    "img.reduceRegion()"
   ]
  },
  {
   "cell_type": "code",
   "execution_count": 111,
   "metadata": {},
   "outputs": [
    {
     "data": {
      "application/vnd.jupyter.widget-view+json": {
       "model_id": "2c829b0248b042c0aa6f1c2886237f7d",
       "version_major": 2,
       "version_minor": 0
      },
      "text/plain": [
       "Map(center=[-3.1962, 19.6385], controls=(WidgetControl(options=['position'], widget=HBox(children=(ToggleButto…"
      ]
     },
     "metadata": {},
     "output_type": "display_data"
    }
   ],
   "source": [
    "Map = geemap.Map()\n",
    "#Map.set_center(-67.4484,-7.9461,9)\n",
    "Map.set_center(19.6385, -3.1962,9)\n",
    "Map\n"
   ]
  },
  {
   "cell_type": "code",
   "execution_count": null,
   "metadata": {},
   "outputs": [],
   "source": []
  },
  {
   "cell_type": "code",
   "execution_count": null,
   "metadata": {},
   "outputs": [],
   "source": []
  },
  {
   "cell_type": "markdown",
   "metadata": {},
   "source": [
    "#### Check temporal coverage"
   ]
  },
  {
   "cell_type": "code",
   "execution_count": 18,
   "metadata": {},
   "outputs": [],
   "source": [
    "# calculate total number of observations and filter by forest cover\n",
    "countS2 = s2_2019.select(0).count().updateMask(forestmask.eq(1))"
   ]
  },
  {
   "cell_type": "code",
   "execution_count": 14,
   "metadata": {},
   "outputs": [],
   "source": [
    "#Map.addLayer(countS2,{'min':1,'max':200,'palette':['blue','green','yellow','red']},'S2 count filtered')"
   ]
  },
  {
   "cell_type": "code",
   "execution_count": 19,
   "metadata": {},
   "outputs": [],
   "source": [
    "#Map"
   ]
  },
  {
   "cell_type": "markdown",
   "metadata": {},
   "source": [
    "#### Aggregate data 16-day "
   ]
  }
 ],
 "metadata": {
  "kernelspec": {
   "display_name": "Python 3",
   "language": "python",
   "name": "python3"
  },
  "language_info": {
   "codemirror_mode": {
    "name": "ipython",
    "version": 3
   },
   "file_extension": ".py",
   "mimetype": "text/x-python",
   "name": "python",
   "nbconvert_exporter": "python",
   "pygments_lexer": "ipython3",
   "version": "3.8.5"
  },
  "varInspector": {
   "cols": {
    "lenName": 16,
    "lenType": 16,
    "lenVar": 40
   },
   "kernels_config": {
    "python": {
     "delete_cmd_postfix": "",
     "delete_cmd_prefix": "del ",
     "library": "var_list.py",
     "varRefreshCmd": "print(var_dic_list())"
    },
    "r": {
     "delete_cmd_postfix": ") ",
     "delete_cmd_prefix": "rm(",
     "library": "var_list.r",
     "varRefreshCmd": "cat(var_dic_list()) "
    }
   },
   "types_to_exclude": [
    "module",
    "function",
    "builtin_function_or_method",
    "instance",
    "_Feature"
   ],
   "window_display": false
  }
 },
 "nbformat": 4,
 "nbformat_minor": 4
}
