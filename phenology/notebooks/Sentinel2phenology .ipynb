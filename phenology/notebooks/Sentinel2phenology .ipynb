{
 "cells": [
  {
   "cell_type": "markdown",
   "metadata": {},
   "source": [
    "# **Phenological diversity with Sentinel 2**"
   ]
  },
  {
   "cell_type": "markdown",
   "metadata": {},
   "source": [
    "### <span style=\"color:red\">   Import packages</span>"
   ]
  },
  {
   "cell_type": "code",
   "execution_count": 1,
   "metadata": {},
   "outputs": [],
   "source": [
    "import ee\n",
    "ee.Initialize()\n",
    "import geemap\n",
    "Map = geemap.Map()"
   ]
  },
  {
   "cell_type": "code",
   "execution_count": 2,
   "metadata": {},
   "outputs": [],
   "source": [
    "import pandas as pd"
   ]
  },
  {
   "cell_type": "markdown",
   "metadata": {},
   "source": [
    "### <span style=\"color:red\">  Load collections</span>"
   ]
  },
  {
   "cell_type": "code",
   "execution_count": 3,
   "metadata": {},
   "outputs": [],
   "source": [
    "# forest mask from ESA CCI (unchanged forests)\n",
    "forestmask = ee.Image('users/marcogirardello/phenoutils/mask_unchanged_500m')\n",
    "# entire collection from Sentinel 2\n",
    "collectionS2 = ee.ImageCollection(\"COPERNICUS/S2_SR\")\n",
    "# sampling areas\n",
    "samples = ee.FeatureCollection('users/marcogirardello/exploratoryproject/samples')"
   ]
  },
  {
   "cell_type": "markdown",
   "metadata": {},
   "source": [
    "### <span style=\"color:red\">   Required functions</span>"
   ]
  },
  {
   "cell_type": "code",
   "execution_count": 117,
   "metadata": {},
   "outputs": [],
   "source": [
    "def maskCloudAndShadows(image):\n",
    "    cloudProb = image.select('MSK_CLDPRB')\n",
    "    snowProb = image.select('MSK_SNWPRB')\n",
    "    cloud = cloudProb.lt(5)\n",
    "    snow = snowProb.lt(5)\n",
    "    scl = image.select('SCL')\n",
    "    shadow = scl.eq(3) # 3 = cloud shadow\n",
    "    cirrus = scl.eq(10) # 10 = cirrus\n",
    "    # cloud probability less than 5% or cloud shadow classification\n",
    "    mask = (cloud.And(snow)).And(cirrus.neq(1)).And(shadow.neq(1))\n",
    "    return image.updateMask(mask) \n",
    "\n",
    "# add dn for product aggregated into 16 days\n",
    "def add_dn_date(img,beginDate=None,n=None,IncludeYear=False):\n",
    "    if beginDate is None:\n",
    "        beginDate = img.get('system:time_start')\n",
    "    else:\n",
    "        beginDate = beginDate\n",
    "    if IncludeYear is False:\n",
    "        IncludeYear = True\n",
    "    if n is None:\n",
    "        n = 8\n",
    "    beginDate = ee.Date(beginDate)\n",
    "    year  = beginDate.get('year')\n",
    "    month = beginDate.get('month')\n",
    "    diff  = beginDate.difference(ee.Date.fromYMD(year, 1, 1), 'day').add(1)\n",
    "    dn    = diff.subtract(1).divide(n).floor().add(1).int()\n",
    "    yearstr  = year.format('%d') \n",
    "    dn = dn.format('%02d')\n",
    "    return ee.Image(img).set('system:time_start', beginDate.millis()).set('date', beginDate.format('yyyy-MM-dd')).set('Year', yearstr).set('Month',beginDate.format('MM')).set('YearMonth', beginDate.format('YYYY-MM')).set('dn', dn)\n",
    "\n",
    "# wrapper function for add_dn_date\n",
    "def add_dn_date_all(Year,days):\n",
    "    def wrapper(image0):\n",
    "        tmp = add_dn_date(img = image0,IncludeYear=Year,n = days)\n",
    "        return tmp\n",
    "    return (wrapper)\n",
    "\n",
    "def aggregate(month):\n",
    "    month = ee.String(month)\n",
    "    seqNDVI = collection.filterMetadata('dn', 'equals',month)\n",
    "    return seqNDVI.median().copyProperties(seqNDVI.first(), ['system:time_start','system:time_end','dn','Month'])\n"
   ]
  },
  {
   "cell_type": "markdown",
   "metadata": {},
   "source": [
    "### <span style=\"color:red\">  Filter random square</span>"
   ]
  },
  {
   "cell_type": "code",
   "execution_count": 5,
   "metadata": {},
   "outputs": [],
   "source": [
    "onesq = samples.filterMetadata('polyID','equals',33)"
   ]
  },
  {
   "cell_type": "markdown",
   "metadata": {},
   "source": [
    "### <span style=\"color:red\"> Filter collection and add NDVI text</span>"
   ]
  },
  {
   "cell_type": "code",
   "execution_count": 93,
   "metadata": {},
   "outputs": [],
   "source": [
    "# for some weird reason cloud and snow probability are missing before 2018!\n",
    "res = collectionS2.\\\n",
    "    filterBounds(onesq).\\\n",
    "    filterDate('2018-03-19','2021-04-30').filterMetadata('CLOUDY_PIXEL_PERCENTAGE','less_than',30).\\\n",
    "    map(maskCloudAndShadows).\\\n",
    "    map(lambda image: ee.Image(image.normalizedDifference(['B8', 'B4']).rename('NDVI').copyProperties(image,['system:time_start','system:time_end'])))"
   ]
  },
  {
   "cell_type": "markdown",
   "metadata": {},
   "source": [
    "### <span style=\"color:red\">  Add day"
   ]
  },
  {
   "cell_type": "code",
   "execution_count": 94,
   "metadata": {},
   "outputs": [],
   "source": [
    "# add day \n",
    "collection = res.map(add_dn_date_all(Year = False, days = 16))"
   ]
  },
  {
   "cell_type": "markdown",
   "metadata": {},
   "source": [
    "### <span style=\"color:red\">  Aggregate data into 16-day composites"
   ]
  },
  {
   "cell_type": "code",
   "execution_count": 96,
   "metadata": {},
   "outputs": [],
   "source": [
    "tmpseas = [\"%02d\" % x for x in list(range(1, 23+1))]\n",
    "tmpseas1 = ee.List(tmpseas)"
   ]
  },
  {
   "cell_type": "code",
   "execution_count": 118,
   "metadata": {},
   "outputs": [],
   "source": [
    "# climatology 5 years (monthly composites)\n",
    "seasons = ee.ImageCollection.fromImages(tmpseas1.map(aggregate)) "
   ]
  },
  {
   "cell_type": "code",
   "execution_count": 111,
   "metadata": {},
   "outputs": [],
   "source": [
    "coverage = seasons.select('NDVI').count()"
   ]
  },
  {
   "cell_type": "code",
   "execution_count": 114,
   "metadata": {},
   "outputs": [],
   "source": [
    "Map.addLayer(coverage,{'min':1,'max':23,'palette':['blue','green','yellow','red']},'coverage')"
   ]
  },
  {
   "cell_type": "code",
   "execution_count": 112,
   "metadata": {},
   "outputs": [
    {
     "data": {
      "application/vnd.jupyter.widget-view+json": {
       "model_id": "8449d6fa083a43218938bc373837e3ed",
       "version_major": 2,
       "version_minor": 0
      },
      "text/plain": [
       "Map(bottom=12923.0, center=[38.14319750166766, -1.950408402782118], controls=(WidgetControl(options=['position…"
      ]
     },
     "metadata": {},
     "output_type": "display_data"
    }
   ],
   "source": [
    "Map"
   ]
  }
 ],
 "metadata": {
  "kernelspec": {
   "display_name": "Python 3",
   "language": "python",
   "name": "python3"
  },
  "language_info": {
   "codemirror_mode": {
    "name": "ipython",
    "version": 3
   },
   "file_extension": ".py",
   "mimetype": "text/x-python",
   "name": "python",
   "nbconvert_exporter": "python",
   "pygments_lexer": "ipython3",
   "version": "3.8.5"
  },
  "varInspector": {
   "cols": {
    "lenName": 16,
    "lenType": 16,
    "lenVar": 40
   },
   "kernels_config": {
    "python": {
     "delete_cmd_postfix": "",
     "delete_cmd_prefix": "del ",
     "library": "var_list.py",
     "varRefreshCmd": "print(var_dic_list())"
    },
    "r": {
     "delete_cmd_postfix": ") ",
     "delete_cmd_prefix": "rm(",
     "library": "var_list.r",
     "varRefreshCmd": "cat(var_dic_list()) "
    }
   },
   "types_to_exclude": [
    "module",
    "function",
    "builtin_function_or_method",
    "instance",
    "_Feature"
   ],
   "window_display": false
  }
 },
 "nbformat": 4,
 "nbformat_minor": 4
}
